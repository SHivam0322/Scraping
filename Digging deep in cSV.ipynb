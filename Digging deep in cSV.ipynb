{
 "cells": [
  {
   "cell_type": "code",
   "execution_count": 61,
   "metadata": {},
   "outputs": [
    {
     "name": "stdout",
     "output_type": "stream",
     "text": [
      "   Name    Birthday  Age\n",
      "0  Shiv  22-02-2001   19\n",
      "\n",
      "('Name', 'Birthday', 'Age')\n",
      "('Shiv', '22-02-2001', '19')\n"
     ]
    }
   ],
   "source": [
    "import pandas\n",
    "t = {(\"Name\",\"Birthday\", \"Age\"),(\"Shiv\", \"22-02-2001\",\"19\"),(\"Shiv\", \"22-02-2001\",\"19\")}\n",
    "with open('Birthday.csv','w',newline='')as file:\n",
    "     writer = csv.writer(file)\n",
    "     writer.writerows(t)\n",
    "file = pandas.read_csv(r\"C:\\Users\\shivt\\Birthday.csv\")\n",
    "print(file)\n",
    "print()\n",
    "for row in t:\n",
    "    print(row)\n",
    "    \n",
    "     "
   ]
  },
  {
   "cell_type": "code",
   "execution_count": 76,
   "metadata": {},
   "outputs": [
    {
     "name": "stdout",
     "output_type": "stream",
     "text": [
      "<csv.DictReader object at 0x000002187EEDE640>\n"
     ]
    },
    {
     "ename": "ValueError",
     "evalue": "dictionary update sequence element #0 has length 4; 2 is required",
     "output_type": "error",
     "traceback": [
      "\u001b[1;31m---------------------------------------------------------------------------\u001b[0m",
      "\u001b[1;31mValueError\u001b[0m                                Traceback (most recent call last)",
      "\u001b[1;32m<ipython-input-76-562a4c9b9ccb>\u001b[0m in \u001b[0;36m<module>\u001b[1;34m\u001b[0m\n\u001b[0;32m     13\u001b[0m     \u001b[0mprint\u001b[0m\u001b[1;33m(\u001b[0m\u001b[0mfile\u001b[0m\u001b[1;33m)\u001b[0m\u001b[1;33m\u001b[0m\u001b[1;33m\u001b[0m\u001b[0m\n\u001b[0;32m     14\u001b[0m     \u001b[1;32mfor\u001b[0m \u001b[0mi\u001b[0m \u001b[1;32min\u001b[0m \u001b[0mfile\u001b[0m\u001b[1;33m:\u001b[0m\u001b[1;33m\u001b[0m\u001b[1;33m\u001b[0m\u001b[0m\n\u001b[1;32m---> 15\u001b[1;33m          \u001b[0mprint\u001b[0m\u001b[1;33m(\u001b[0m\u001b[0mdict\u001b[0m\u001b[1;33m(\u001b[0m\u001b[0mrow\u001b[0m\u001b[1;33m)\u001b[0m\u001b[1;33m)\u001b[0m\u001b[1;33m\u001b[0m\u001b[1;33m\u001b[0m\u001b[0m\n\u001b[0m",
      "\u001b[1;31mValueError\u001b[0m: dictionary update sequence element #0 has length 4; 2 is required"
     ]
    }
   ],
   "source": [
    "import pandas\n",
    "import csv\n",
    "\n",
    "with open('school.csv', 'w', newline='') as file:\n",
    "    fieldnames = ['school_name','location']\n",
    "    writer = csv.DictWriter(file,fieldnames=fieldnames,delimiter=\"|\")\n",
    "\n",
    "    writer.writeheader()\n",
    "    writer.writerow({'school_name':'Sanjuba','location':'Ayodhya_nagar'})\n",
    "    writer.writerow({'school_name':'St.Paul','location':'Hudkeshwa'})\n",
    "    writer.writerow({'school_name':'Yashoda','location':'Hingna'})\n",
    "    file = csv.DictReader(r\"C:\\Users\\shivt\\school.csv\")\n",
    "    print(file)\n",
    "    for i in file:\n",
    "         print(dict(row))"
   ]
  },
  {
   "cell_type": "code",
   "execution_count": null,
   "metadata": {},
   "outputs": [],
   "source": []
  },
  {
   "cell_type": "code",
   "execution_count": null,
   "metadata": {},
   "outputs": [],
   "source": []
  },
  {
   "cell_type": "code",
   "execution_count": null,
   "metadata": {},
   "outputs": [],
   "source": []
  },
  {
   "cell_type": "code",
   "execution_count": null,
   "metadata": {},
   "outputs": [],
   "source": []
  },
  {
   "cell_type": "code",
   "execution_count": null,
   "metadata": {},
   "outputs": [],
   "source": []
  },
  {
   "cell_type": "code",
   "execution_count": null,
   "metadata": {},
   "outputs": [],
   "source": []
  }
 ],
 "metadata": {
  "kernelspec": {
   "display_name": "Python 3",
   "language": "python",
   "name": "python3"
  },
  "language_info": {
   "codemirror_mode": {
    "name": "ipython",
    "version": 3
   },
   "file_extension": ".py",
   "mimetype": "text/x-python",
   "name": "python",
   "nbconvert_exporter": "python",
   "pygments_lexer": "ipython3",
   "version": "3.9.1"
  }
 },
 "nbformat": 4,
 "nbformat_minor": 4
}
