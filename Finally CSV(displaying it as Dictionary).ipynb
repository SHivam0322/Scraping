{
 "cells": [
  {
   "cell_type": "code",
   "execution_count": 16,
   "metadata": {},
   "outputs": [
    {
     "name": "stdout",
     "output_type": "stream",
     "text": [
      "{'ï»¿Serial no': '1', 'Name': 'Shivam', 'Class': '3rd year', 'Aim': 'MBA'}\n",
      "{'ï»¿Serial no': '2', 'Name': 'Samiksha', 'Class': '12th', 'Aim': 'MBBS'}\n",
      "{'ï»¿Serial no': '3', 'Name': 'Makrand', 'Class': '3rd year', 'Aim': 'MS'}\n",
      "{'ï»¿Serial no': '4', 'Name': 'Yukta', 'Class': '3rd year', 'Aim': 'C.A.'}\n",
      "{'ï»¿Serial no': '5', 'Name': 'Sanket', 'Class': '1st year', 'Aim': 'Business'}\n",
      "{'ï»¿Serial no': '6', 'Name': 'Aniket', 'Class': '2nd year', 'Aim': 'Business'}\n",
      "{'ï»¿Serial no': '7', 'Name': 'Uday', 'Class': 'Null', 'Aim': 'Farming'}\n"
     ]
    }
   ],
   "source": [
    "import pandas\n",
    "import csv\n",
    "with open(r\"C:\\Users\\shivt\\Desktop\\New folder\\bhi.csv\",'r') as file: \n",
    "    csv_file = csv.DictReader(file)\n",
    "    #print(file)\n",
    "    for row in csv_file:\n",
    "        print(dict(row))"
   ]
  },
  {
   "cell_type": "code",
   "execution_count": null,
   "metadata": {},
   "outputs": [],
   "source": []
  },
  {
   "cell_type": "code",
   "execution_count": null,
   "metadata": {},
   "outputs": [],
   "source": []
  },
  {
   "cell_type": "code",
   "execution_count": null,
   "metadata": {},
   "outputs": [],
   "source": []
  }
 ],
 "metadata": {
  "kernelspec": {
   "display_name": "Python 3",
   "language": "python",
   "name": "python3"
  },
  "language_info": {
   "codemirror_mode": {
    "name": "ipython",
    "version": 3
   },
   "file_extension": ".py",
   "mimetype": "text/x-python",
   "name": "python",
   "nbconvert_exporter": "python",
   "pygments_lexer": "ipython3",
   "version": "3.9.1"
  }
 },
 "nbformat": 4,
 "nbformat_minor": 4
}
